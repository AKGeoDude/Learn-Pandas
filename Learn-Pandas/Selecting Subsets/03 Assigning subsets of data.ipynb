{
 "cells": [
  {
   "cell_type": "markdown",
   "metadata": {},
   "source": [
    "# Selecting Subsets of Data in Pandas\n",
    "\n",
    "## Part 3: Assigning subsets of data\n",
    "This is part 3 of a seven-part series on how to select subsets of data from a pandas DataFrame or Series. Pandas offers a wide variety of options for subset selection which necessitates multiple articles. This series is broken down into the following 7 topics.\n",
    "\n",
    "1. Selection with `[]`, `.loc` and `.iloc`\n",
    "1. Boolean indexing\n",
    "1. Assigning subsets of data\n",
    "1. Selection with a MultiIndex\n",
    "1. Selecting subsets of data with methods\n",
    "1. Selections with other Index types\n",
    "1. Internals, Miscellaneous, and Conclusion\n",
    "\n",
    "## Assignment\n",
    "When you see the word **assign** used during a discussion on programming, it usually means that a variable is set equal to some value. For most programming languages, this means using the equal sign. For instance, to assign the value 5 to the variable **`x`** in Python, we do the following:\n",
    "\n",
    "```Python\n",
    "x = 5\n",
    "```\n",
    "\n",
    "This is formally called an [assignment statement][1]. More generally, we can define Python assignment statements as follows:\n",
    "\n",
    "```Python\n",
    "variable = expression\n",
    "```\n",
    "\n",
    "There is quite a bit more to the [Python assignment statement](https://docs.python.org/3/reference/simple_stmts.html), but for our purposes it just means using the equal sign to store the object on the right-hand side to the left-hand side.\n",
    "\n",
    "## What does this have to do with selecting subsets of data?\n",
    "In this article, we will use the assignment statement, but only after we select a subset of data. We will be doing our subset selection based on what we learned from [part 1](https://medium.com/dunder-data/selecting-subsets-of-data-in-pandas-6fcd0170be9c) and [part 2](https://medium.com/dunder-data/selecting-subsets-of-data-in-pandas-39e811c81a0c). We will learn how to changes the values of particular subsets of our data.\n",
    "\n",
    "The left-hand side will have our subset selection and the right-hand side will contain our new values like this:\n",
    "\n",
    "```Python\n",
    "subset_of_DataFrame_or_Series = new_values\n",
    "```\n",
    "\n",
    "## Small Sample Dataset\n",
    "During this tutorial, we will be working with a small sample of the employee dataset\n",
    "\n",
    "[1]: https://en.wikipedia.org/wiki/Assignment_(computer_science)"
   ]
  },
  {
   "cell_type": "code",
   "execution_count": 1,
   "metadata": {
    "collapsed": true
   },
   "outputs": [],
   "source": [
    "import pandas as pd"
   ]
  },
  {
   "cell_type": "code",
   "execution_count": 67,
   "metadata": {},
   "outputs": [],
   "source": [
    "df = pd.read_csv('../../data/employee.csv')"
   ]
  },
  {
   "cell_type": "code",
   "execution_count": 71,
   "metadata": {
    "collapsed": true
   },
   "outputs": [],
   "source": [
    "df.to_csv('../../data/employee.csv', index=False)"
   ]
  },
  {
   "cell_type": "code",
   "execution_count": null,
   "metadata": {
    "collapsed": true
   },
   "outputs": [],
   "source": []
  }
 ],
 "metadata": {
  "kernelspec": {
   "display_name": "Python 3",
   "language": "python",
   "name": "python3"
  },
  "language_info": {
   "codemirror_mode": {
    "name": "ipython",
    "version": 3
   },
   "file_extension": ".py",
   "mimetype": "text/x-python",
   "name": "python",
   "nbconvert_exporter": "python",
   "pygments_lexer": "ipython3",
   "version": "3.6.3"
  }
 },
 "nbformat": 4,
 "nbformat_minor": 2
}
